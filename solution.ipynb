{
 "cells": [
  {
   "cell_type": "markdown",
   "metadata": {},
   "source": [
    "## 1. Read the data"
   ]
  },
  {
   "cell_type": "markdown",
   "metadata": {},
   "source": [
    "* 1.1 Creating the app for a parquet reader from PySpark"
   ]
  },
  {
   "cell_type": "code",
   "execution_count": 2,
   "metadata": {},
   "outputs": [],
   "source": [
    "from pyspark.sql import SparkSession\n",
    "\n",
    "appName = \"Parquet reader\"\n",
    "master = \"local\"\n",
    "\n",
    "spark = SparkSession.builder.appName(appName).master(master).getOrCreate()"
   ]
  },
  {
   "cell_type": "markdown",
   "metadata": {},
   "source": [
    "* 1.2 Reading of all data"
   ]
  },
  {
   "cell_type": "code",
   "execution_count": 3,
   "metadata": {},
   "outputs": [],
   "source": [
    "ana_sales_df  = spark.read.parquet(r'data\\ana_sales_data.parquet').drop('__index_level_0__')\n",
    "\n",
    "ana_upc_df  = spark.read.parquet(r'data\\ana_upc.parquet')\n",
    "\n",
    "beer_sales_df  = spark.read.parquet(r'data\\beer_sales_data.parquet').drop('__index_level_0__')\n",
    "\n",
    "beer_upc_df  = spark.read.parquet(r'data\\beer_upc.parquet')\n",
    "\n",
    "cig_sales_df = spark.read.parquet(r'data\\cig_sales_data.parquet').drop('__index_level_0__')\n",
    "\n",
    "cig_upc_df  = spark.read.parquet(r'data\\cig_upc.parquet')\n",
    "\n",
    "demographic_df  = spark.read.parquet(r'data\\demographic_data.parquet').drop('__index_level_0__')\n"
   ]
  },
  {
   "cell_type": "markdown",
   "metadata": {},
   "source": [
    "* 1.3 Printing of all dfs and their describes"
   ]
  },
  {
   "cell_type": "code",
   "execution_count": 4,
   "metadata": {},
   "outputs": [
    {
     "name": "stdout",
     "output_type": "stream",
     "text": [
      "ana_sales_data.parquet\n",
      "\n",
      "+-----+----------+----+----+---+-----+----+\n",
      "|store|       upc|week|move|qty|price|sale|\n",
      "+-----+----------+----+----+---+-----+----+\n",
      "|   76|1192603016| 306|   0|  1|  0.0|NULL|\n",
      "|   76|1192603016| 307|   1|  1| 2.99|NULL|\n",
      "|   76|1192603016| 308|   0|  1|  0.0|NULL|\n",
      "|   76|1192603016| 309|   0|  1|  0.0|NULL|\n",
      "|   76|1192603016| 310|   0|  1|  0.0|NULL|\n",
      "+-----+----------+----+----+---+-----+----+\n",
      "only showing top 5 rows\n",
      "\n",
      "+-------+-----------------+--------------------+------------------+-----------------+-------+------------------+------+\n",
      "|summary|            store|                 upc|              week|             move|    qty|             price|  sale|\n",
      "+-------+-----------------+--------------------+------------------+-----------------+-------+------------------+------+\n",
      "|  count|          7241655|             7241655|           7241655|          7241655|7241655|           7241655|262623|\n",
      "|   mean|86.97370849619321|2.762577532630987E10|222.75456908676261|1.109366160083572|    1.0|2.1761395730656816|  NULL|\n",
      "| stddev|36.41676669928949| 9.695559832623846E9|111.31998883677147|  2.4309387787076|    0.0|2.9811695228729875|  NULL|\n",
      "|    min|                2|          1192603016|                 1|                0|      1|               0.0|     B|\n",
      "|    max|              146|         78765150152|               399|              963|      1|             23.69|     S|\n",
      "+-------+-----------------+--------------------+------------------+-----------------+-------+------------------+------+\n",
      "\n"
     ]
    }
   ],
   "source": [
    "print('ana_sales_data.parquet', end=\"\\n\\n\")\n",
    "ana_sales_df.show(5)\n",
    "ana_sales_df.describe().show()"
   ]
  },
  {
   "cell_type": "code",
   "execution_count": 5,
   "metadata": {},
   "outputs": [
    {
     "name": "stdout",
     "output_type": "stream",
     "text": [
      "ana_upc.parquet\n",
      "\n",
      "+--------+----------+--------------------+-----+----+-------+\n",
      "|com_code|       upc|             descrip| size|case|  nitem|\n",
      "+--------+----------+--------------------+-----+----+-------+\n",
      "|     953|1192603016|CAFFEDRINE CAPLETS 1|16 CT|   6|7342431|\n",
      "|     953|1192662108|   SLEEPINAL SOFTGEL| 8 CT|   6|7333311|\n",
      "|     953|1650001020|        NERVINE TABS|30 CT|   1|8430820|\n",
      "|     953|1650001022|   NERVINE SLEEP AID|12 CT|   1|8430840|\n",
      "|     953|1650004106|   ALKA-SELTZER GOLD|20 CT|   1|8430880|\n",
      "+--------+----------+--------------------+-----+----+-------+\n",
      "only showing top 5 rows\n",
      "\n",
      "+-------+--------+--------------------+--------------------+-----+------------------+------------------+\n",
      "|summary|com_code|                 upc|             descrip| size|              case|             nitem|\n",
      "+-------+--------+--------------------+--------------------+-----+------------------+------------------+\n",
      "|  count|     641|                 641|                 641|  641|               641|               641|\n",
      "|   mean|   953.0|2.706753800791887...|                NULL| NULL| 7.581903276131046|  6693831.72074883|\n",
      "| stddev|     0.0| 1.13826496457975E10|                NULL| NULL|12.588930534278123|1138404.7373800157|\n",
      "|    min|     953|          1192603016|      #ADVIL TABLETS|.5 OZ|                 1|            612260|\n",
      "|    max|     953|         78765150152|~TYLENOL X/S FASTCAP| ASST|               144|           9994030|\n",
      "+-------+--------+--------------------+--------------------+-----+------------------+------------------+\n",
      "\n"
     ]
    }
   ],
   "source": [
    "print('ana_upc.parquet', end=\"\\n\\n\")\n",
    "ana_upc_df.show(5)\n",
    "ana_upc_df.describe().show()"
   ]
  },
  {
   "cell_type": "code",
   "execution_count": 6,
   "metadata": {},
   "outputs": [
    {
     "name": "stdout",
     "output_type": "stream",
     "text": [
      "beer_sales_data.parquet\n",
      "\n",
      "+-----+---+----+----+---+-----+----+\n",
      "|store|upc|week|move|qty|price|sale|\n",
      "+-----+---+----+----+---+-----+----+\n",
      "|    2|294| 298|  11|  1| 2.62|NULL|\n",
      "|    2|294| 299|   9|  1| 2.51|NULL|\n",
      "|    2|294| 300|   6|  1| 2.49|NULL|\n",
      "|    2|294| 301|   5|  1| 2.99|NULL|\n",
      "|    2|294| 302|   1|  1| 2.49|NULL|\n",
      "+-----+---+----+----+---+-----+----+\n",
      "only showing top 5 rows\n",
      "\n",
      "+-------+------------------+--------------------+------------------+-----------------+--------------------+------------------+------+\n",
      "|summary|             store|                 upc|              week|             move|                 qty|             price|  sale|\n",
      "+-------+------------------+--------------------+------------------+-----------------+--------------------+------------------+------+\n",
      "|  count|           3967720|             3967720|           3967720|          3967720|             3967720|           3967720|547436|\n",
      "|   mean|  88.8170395088363| 7.234428652522762E9|236.44771279223332|3.383864032744246|   1.000011089492202|2.8190411349555675|  NULL|\n",
      "| stddev|36.354691869621504|1.072429249578282...| 84.10144603633947|8.877260581366855|0.003330070873139...|3.4220096645687055|  NULL|\n",
      "|    min|                 2|                 294|                91|                0|                   1|               0.0|     B|\n",
      "|    max|               146|         79709638102|               399|              769|                   2|             29.64|     S|\n",
      "+-------+------------------+--------------------+------------------+-----------------+--------------------+------------------+------+\n",
      "\n"
     ]
    }
   ],
   "source": [
    "print('beer_sales_data.parquet', end=\"\\n\\n\")\n",
    "beer_sales_df.show(5)\n",
    "beer_sales_df.describe().show()"
   ]
  },
  {
   "cell_type": "code",
   "execution_count": 7,
   "metadata": {},
   "outputs": [
    {
     "name": "stdout",
     "output_type": "stream",
     "text": [
      "beer_upc.parquet\n",
      "\n",
      "+--------+---+--------------------+------+----+-------+\n",
      "|com_code|upc|             descrip|  size|case|  nitem|\n",
      "+--------+---+--------------------+------+----+-------+\n",
      "|      27|294|          BEER LIMIT|12/12O|   2|9990180|\n",
      "|      26|307|HEINEKEN KINGSIZE CA|259 OZ|   1|9490410|\n",
      "|      27|710|      BUDWEISER BEER|24/12O|   1|9402300|\n",
      "|      27|711|  BUDWEISER DRY BEER|24/12O|   1|9402650|\n",
      "|      27|712|BUDWEISER LIGHT BEER|24/12O|   1|9402600|\n",
      "+--------+---+--------------------+------+----+-------+\n",
      "only showing top 5 rows\n",
      "\n",
      "+-------+------------------+--------------------+--------------------+------+-----------------+-----------------+\n",
      "|summary|          com_code|                 upc|             descrip|  size|             case|            nitem|\n",
      "+-------+------------------+--------------------+--------------------+------+-----------------+-----------------+\n",
      "|  count|               790|                 790|                 790|   790|              790|              790|\n",
      "|   mean|26.848101265822784| 9.592659414381012E9|                NULL|  NULL|4.372151898734177|9072239.172151899|\n",
      "| stddev| 0.482615592120255|1.606645171043269...|                NULL|  NULL|3.451380088354024|9889993.530674987|\n",
      "|    min|                26|                 294|$ARIEL NA CHARDONNAY|10/12O|                1|       -268439164|\n",
      "|    max|                28|         79709638102|~SANTA CLAUSS XMAS B| 8/7OZ|               24|          9990180|\n",
      "+-------+------------------+--------------------+--------------------+------+-----------------+-----------------+\n",
      "\n"
     ]
    }
   ],
   "source": [
    "print('beer_upc.parquet', end=\"\\n\\n\")\n",
    "beer_upc_df.show(5)\n",
    "beer_upc_df.describe().show()"
   ]
  },
  {
   "cell_type": "code",
   "execution_count": 8,
   "metadata": {},
   "outputs": [
    {
     "name": "stdout",
     "output_type": "stream",
     "text": [
      "cig_sales_data.parquet\n",
      "\n",
      "+-----+---+----+----+---+-----+----+\n",
      "|store|upc|week|move|qty|price|sale|\n",
      "+-----+---+----+----+---+-----+----+\n",
      "|    8|190| 194|   0|  1|  0.0|NULL|\n",
      "|    8|190| 195|   2|  1|21.51|NULL|\n",
      "|    8|190| 196|   0|  1|  0.0|NULL|\n",
      "|    8|190| 197|   0|  1|  0.0|NULL|\n",
      "|    8|190| 198|   0|  1|  0.0|NULL|\n",
      "+-----+---+----+----+---+-----+----+\n",
      "only showing top 5 rows\n",
      "\n",
      "+-------+-----------------+--------------------+------------------+-----------------+-------+------------------+----+\n",
      "|summary|            store|                 upc|              week|             move|    qty|             price|sale|\n",
      "+-------+-----------------+--------------------+------------------+-----------------+-------+------------------+----+\n",
      "|  count|          5331369|             5331369|           5331369|          5331369|5331369|           5331369|  21|\n",
      "|   mean|83.65051115388937|1.7699665368554485E9|228.80291009682503|2.900192802261483|    1.0|2.5995884287354083|NULL|\n",
      "| stddev|37.29878714928176| 8.480859326813791E8| 107.0460706684725|42.03083198800068|    0.0| 5.882909677221625|NULL|\n",
      "|    min|                2|                 190|                 1|                0|      1|               0.0|   S|\n",
      "|    max|              146|          8640912356|               399|             3059|      1|             250.0|   S|\n",
      "+-------+-----------------+--------------------+------------------+-----------------+-------+------------------+----+\n",
      "\n"
     ]
    }
   ],
   "source": [
    "print('cig_sales_data.parquet', end=\"\\n\\n\")\n",
    "cig_sales_df.show(5)\n",
    "cig_sales_df.describe().show()"
   ]
  },
  {
   "cell_type": "code",
   "execution_count": 9,
   "metadata": {},
   "outputs": [
    {
     "name": "stdout",
     "output_type": "stream",
     "text": [
      "cig_upc.parquet\n",
      "\n",
      "+--------+---+--------------------+----+----+-----+\n",
      "|com_code|upc|             descrip|size|case|nitem|\n",
      "+--------+---+--------------------+----+----+-----+\n",
      "|     700|190|KING CARTON CIGS (PL|1 CT|   1|86040|\n",
      "|     700|191|100'S CARTON CIGS (P|1 CT|   1|86060|\n",
      "|     705|193|25 CT SINGLE PACK CI|1 CT|   8|80080|\n",
      "|     705|194|      GENERIC SINGLE|1 CT|  10|80020|\n",
      "|     700|195|KING CARTON PRICE VA|1 CT|   1|86050|\n",
      "+--------+---+--------------------+----+----+-----+\n",
      "only showing top 5 rows\n",
      "\n",
      "+-------+------------------+--------------------+--------------------+------+------------------+------------------+\n",
      "|summary|          com_code|                 upc|             descrip|  size|              case|             nitem|\n",
      "+-------+------------------+--------------------+--------------------+------+------------------+------------------+\n",
      "|  count|               942|                 942|                 942|   942|               942|               942|\n",
      "|   mean| 702.4203821656051|2.8654127057569003E9|                NULL|  NULL|4.2441613588110405|  85232.6220806794|\n",
      "| stddev|2.5000592261678407| 1.769954889516153E9|                NULL|  NULL| 4.347283819502062|2453.0227343070746|\n",
      "|    min|               700|                 190|        100'S CARTON|.75 OZ|                 1|             80000|\n",
      "|    max|               705|          8640912356|WINSTON SELECT 20Õ O|  PACK|                20|             91460|\n",
      "+-------+------------------+--------------------+--------------------+------+------------------+------------------+\n",
      "\n"
     ]
    }
   ],
   "source": [
    "print('cig_upc.parquet', end=\"\\n\\n\")\n",
    "cig_upc_df.show(5)\n",
    "cig_upc_df.describe().show()"
   ]
  },
  {
   "cell_type": "code",
   "execution_count": 10,
   "metadata": {},
   "outputs": [
    {
     "name": "stdout",
     "output_type": "stream",
     "text": [
      "demographic_data.parquet\n",
      "\n",
      "+-----+-----------+-----------+----------+-----------+----------+-----------+----------+-----------+---------+---------+---------+----------+\n",
      "|store|      age60|       age9|      educ|     ethnic|    income|    hhlarge|   workwom|    hval150| sstrdist|  sstrvol|  cpdist5|   cpwvol5|\n",
      "+-----+-----------+-----------+----------+-----------+----------+-----------+----------+-----------+---------+---------+---------+----------+\n",
      "|  2.0| 0.23286474|0.117508575|0.24893494| 0.11427995|10.5532055|0.103953406|0.30358535| 0.46388707|2.1101222|1.1428572|1.9272797| 0.3769266|\n",
      "|  4.0|  0.2620299|  0.0950895|0.22078942|0.062161274| 10.646972| 0.08812342|0.36212158| 0.52223635|2.3732002|      1.0|1.1044705| 0.7724895|\n",
      "|  5.0|0.117368035| 0.14143348|0.32122573| 0.05387528| 10.922371| 0.10309158|0.41056803| 0.53588337| 3.801998|0.6818182|1.6005734|0.73630685|\n",
      "|  8.0| 0.25239402|0.123155415|0.09517328| 0.03524333|  10.59701|  0.1317497|0.28307474|0.054227155|2.6363328|      1.5|2.9053843|0.64101595|\n",
      "|  9.0| 0.26911902|  0.1035031|0.22217232|0.032618824| 10.787151| 0.09683047| 0.3589945| 0.50574714|1.1032788|0.6666667|1.8204744|0.44126827|\n",
      "+-----+-----------+-----------+----------+-----------+----------+-----------+----------+-----------+---------+---------+---------+----------+\n",
      "only showing top 5 rows\n",
      "\n",
      "+-------+------------------+-------------------+-------------------+-------------------+-------------------+-------------------+-------------------+--------------------+-------------------+------------------+------------------+-----------------+-------------------+\n",
      "|summary|             store|              age60|               age9|               educ|             ethnic|             income|            hhlarge|             workwom|            hval150|          sstrdist|           sstrvol|          cpdist5|            cpwvol5|\n",
      "+-------+------------------+-------------------+-------------------+-------------------+-------------------+-------------------+-------------------+--------------------+-------------------+------------------+------------------+-----------------+-------------------+\n",
      "|  count|               107|                 97|                 97|                 97|                 97|                 97|                 97|                  97|                 97|                85|                85|               85|                 85|\n",
      "|   mean|104.93457943925233| 0.1700461983450295| 0.1402386010614867|0.21881457544940033| 0.1536223649517777| 10.609433911510349|0.11810489243722146|   0.358463746063488|0.33848199538032037| 5.026879904375357|1.2142983671496896| 2.10861840318231| 0.4475046476020533|\n",
      "| stddev| 80.32273005067219|0.06397142018240193|0.02692101291496665|0.10796796097085189|0.18289678556987907|0.27805855020838033|0.03193333727575323|0.051302635484898405|0.23668322462484986|3.4769424323192366|0.5283236703859804|0.737315041009674|0.22441662127086554|\n",
      "|    min|               2.0|        0.058053967|         0.04607092|        0.049550287|        0.022827925|           9.867083|        0.013506356|          0.24446267|       0.0025094103|        0.13209683|               0.4|        0.7725297|         0.09456175|\n",
      "|    max|             315.0|         0.31292796|         0.20015584|         0.52836204|         0.99569076|         11.2361965|         0.21635434|          0.47230828|         0.91669947|         17.855951|         2.5714285|        4.1079016|          1.1433666|\n",
      "+-------+------------------+-------------------+-------------------+-------------------+-------------------+-------------------+-------------------+--------------------+-------------------+------------------+------------------+-----------------+-------------------+\n",
      "\n"
     ]
    }
   ],
   "source": [
    "print('demographic_data.parquet', end=\"\\n\\n\")\n",
    "demographic_df.show(5)\n",
    "demographic_df.describe().show()"
   ]
  },
  {
   "cell_type": "markdown",
   "metadata": {},
   "source": [
    "___"
   ]
  },
  {
   "cell_type": "markdown",
   "metadata": {},
   "source": [
    "## 2. Preprocessing of all data and EDA"
   ]
  },
  {
   "cell_type": "code",
   "execution_count": 11,
   "metadata": {},
   "outputs": [],
   "source": [
    "all_dfs_names = ['ana_sales_df', 'ana_upc_df', 'beer_sales_df', 'beer_upc_df', 'cig_sales_df', 'cig_upc_df', 'demographic_df']\n",
    "all_dfs = [ana_sales_df, ana_upc_df, beer_sales_df, beer_upc_df, cig_sales_df, cig_upc_df, demographic_df]"
   ]
  },
  {
   "cell_type": "markdown",
   "metadata": {},
   "source": [
    "* #### 2.1 Preprocess data"
   ]
  },
  {
   "cell_type": "markdown",
   "metadata": {},
   "source": [
    "* ##### 2.1 Deleting all duplicates "
   ]
  },
  {
   "cell_type": "code",
   "execution_count": 12,
   "metadata": {},
   "outputs": [
    {
     "name": "stdout",
     "output_type": "stream",
     "text": [
      "Count items before deleting duplicates\n",
      "ana_sales_df: 7241655\n",
      "\n",
      " ana_upc_df: 641\n",
      "\n",
      " beer_sales_df: 3967720\n",
      "\n",
      " beer_upc_df: 790\n",
      "\n",
      " cig_sales_df: 5331369\n",
      "\n",
      " cig_upc_df: 942\n",
      "\n",
      " demographic_df: 107\n",
      "\n",
      "\n",
      "Count items after deleting duplicates\n",
      "ana_sales_df: 7241655\n",
      "\n",
      " ana_upc_df: 641\n",
      "\n",
      " beer_sales_df: 3967720\n",
      "\n",
      " beer_upc_df: 790\n",
      "\n",
      " cig_sales_df: 5331369\n",
      "\n",
      " cig_upc_df: 942\n",
      "\n",
      " demographic_df: 107\n",
      "\n",
      "\n"
     ]
    }
   ],
   "source": [
    "print('Count items before deleting duplicates')\n",
    "print(*[f'{all_dfs_names[i]}: {all_dfs[i].count()}\\n\\n' for i in range(len(all_dfs))])\n",
    "\n",
    "\n",
    "all_dfs_without_duplicates = list(map(lambda df: df.drop_duplicates(), all_dfs))\n",
    "print('Count items after deleting duplicates')\n",
    "print(*[f'{all_dfs_names[i]}: {all_dfs_without_duplicates[i].count()}\\n\\n' for i in range(len(all_dfs))])"
   ]
  },
  {
   "cell_type": "markdown",
   "metadata": {},
   "source": [
    "There are no doplicates in the data"
   ]
  },
  {
   "cell_type": "markdown",
   "metadata": {},
   "source": [
    "* ##### 2.1.2 Counting and filling omnissions(NaN, NULL) "
   ]
  },
  {
   "cell_type": "code",
   "execution_count": 13,
   "metadata": {},
   "outputs": [
    {
     "name": "stdout",
     "output_type": "stream",
     "text": [
      "total count of ana_sales_df: 7241655\n",
      "count NaN values in ana_sales_df\n",
      "+-----+---+----+----+---+-----+----+\n",
      "|store|upc|week|move|qty|price|sale|\n",
      "+-----+---+----+----+---+-----+----+\n",
      "|    0|  0|   0|   0|  0|    0|   0|\n",
      "+-----+---+----+----+---+-----+----+\n",
      "\n",
      "total count of ana_upc_df: 641\n",
      "count NaN values in ana_upc_df\n",
      "+--------+---+-------+----+----+-----+\n",
      "|com_code|upc|descrip|size|case|nitem|\n",
      "+--------+---+-------+----+----+-----+\n",
      "|       0|  0|      0|   0|   0|    0|\n",
      "+--------+---+-------+----+----+-----+\n",
      "\n",
      "total count of beer_sales_df: 3967720\n",
      "count NaN values in beer_sales_df\n",
      "+-----+---+----+----+---+-----+----+\n",
      "|store|upc|week|move|qty|price|sale|\n",
      "+-----+---+----+----+---+-----+----+\n",
      "|    0|  0|   0|   0|  0|    0|   0|\n",
      "+-----+---+----+----+---+-----+----+\n",
      "\n",
      "total count of beer_upc_df: 790\n",
      "count NaN values in beer_upc_df\n",
      "+--------+---+-------+----+----+-----+\n",
      "|com_code|upc|descrip|size|case|nitem|\n",
      "+--------+---+-------+----+----+-----+\n",
      "|       0|  0|      0|   0|   0|    0|\n",
      "+--------+---+-------+----+----+-----+\n",
      "\n",
      "total count of cig_sales_df: 5331369\n",
      "count NaN values in cig_sales_df\n",
      "+-----+---+----+----+---+-----+----+\n",
      "|store|upc|week|move|qty|price|sale|\n",
      "+-----+---+----+----+---+-----+----+\n",
      "|    0|  0|   0|   0|  0|    0|   0|\n",
      "+-----+---+----+----+---+-----+----+\n",
      "\n",
      "total count of cig_upc_df: 942\n",
      "count NaN values in cig_upc_df\n",
      "+--------+---+-------+----+----+-----+\n",
      "|com_code|upc|descrip|size|case|nitem|\n",
      "+--------+---+-------+----+----+-----+\n",
      "|       0|  0|      0|   0|   0|    0|\n",
      "+--------+---+-------+----+----+-----+\n",
      "\n",
      "total count of demographic_df: 107\n",
      "count NaN values in demographic_df\n",
      "+-----+-----+----+----+------+------+-------+-------+-------+--------+-------+-------+-------+\n",
      "|store|age60|age9|educ|ethnic|income|hhlarge|workwom|hval150|sstrdist|sstrvol|cpdist5|cpwvol5|\n",
      "+-----+-----+----+----+------+------+-------+-------+-------+--------+-------+-------+-------+\n",
      "|    0|    0|   0|   0|     0|     0|      0|      0|      0|       0|      0|      0|      0|\n",
      "+-----+-----+----+----+------+------+-------+-------+-------+--------+-------+-------+-------+\n",
      "\n"
     ]
    }
   ],
   "source": [
    "from pyspark.sql.functions import isnan, when, count\n",
    "\n",
    "for i in range(len(all_dfs)):\n",
    "    print(f'total count of {all_dfs_names[i]}:', all_dfs[i].count())\n",
    "    print('count NaN values in', all_dfs_names[i])\n",
    "    all_dfs[i].select([count(when(isnan(j), j)).alias(j) for j in all_dfs[i].columns]).show()"
   ]
  },
  {
   "cell_type": "markdown",
   "metadata": {},
   "source": [
    "Count of NaN values in data has seen that there are no NaN values in all data"
   ]
  },
  {
   "cell_type": "code",
   "execution_count": 14,
   "metadata": {},
   "outputs": [
    {
     "name": "stdout",
     "output_type": "stream",
     "text": [
      "total count of ana_sales_df: 7241655\n",
      "count NaN values in ana_sales_df\n",
      "+-----+---+----+----+---+-----+-------+\n",
      "|store|upc|week|move|qty|price|   sale|\n",
      "+-----+---+----+----+---+-----+-------+\n",
      "|    0|  0|   0|   0|  0|    0|6979032|\n",
      "+-----+---+----+----+---+-----+-------+\n",
      "\n",
      "total count of ana_upc_df: 641\n",
      "count NaN values in ana_upc_df\n",
      "+--------+---+-------+----+----+-----+\n",
      "|com_code|upc|descrip|size|case|nitem|\n",
      "+--------+---+-------+----+----+-----+\n",
      "|       0|  0|      0|   0|   0|    0|\n",
      "+--------+---+-------+----+----+-----+\n",
      "\n",
      "total count of beer_sales_df: 3967720\n",
      "count NaN values in beer_sales_df\n",
      "+-----+---+----+----+---+-----+-------+\n",
      "|store|upc|week|move|qty|price|   sale|\n",
      "+-----+---+----+----+---+-----+-------+\n",
      "|    0|  0|   0|   0|  0|    0|3420284|\n",
      "+-----+---+----+----+---+-----+-------+\n",
      "\n",
      "total count of beer_upc_df: 790\n",
      "count NaN values in beer_upc_df\n",
      "+--------+---+-------+----+----+-----+\n",
      "|com_code|upc|descrip|size|case|nitem|\n",
      "+--------+---+-------+----+----+-----+\n",
      "|       0|  0|      0|   0|   0|    0|\n",
      "+--------+---+-------+----+----+-----+\n",
      "\n",
      "total count of cig_sales_df: 5331369\n",
      "count NaN values in cig_sales_df\n",
      "+-----+---+----+----+---+-----+-------+\n",
      "|store|upc|week|move|qty|price|   sale|\n",
      "+-----+---+----+----+---+-----+-------+\n",
      "|    0|  0|   0|   0|  0|    0|5331348|\n",
      "+-----+---+----+----+---+-----+-------+\n",
      "\n",
      "total count of cig_upc_df: 942\n",
      "count NaN values in cig_upc_df\n",
      "+--------+---+-------+----+----+-----+\n",
      "|com_code|upc|descrip|size|case|nitem|\n",
      "+--------+---+-------+----+----+-----+\n",
      "|       0|  0|      0|   0|   0|    0|\n",
      "+--------+---+-------+----+----+-----+\n",
      "\n",
      "total count of demographic_df: 107\n",
      "count NaN values in demographic_df\n",
      "+-----+-----+----+----+------+------+-------+-------+-------+--------+-------+-------+-------+\n",
      "|store|age60|age9|educ|ethnic|income|hhlarge|workwom|hval150|sstrdist|sstrvol|cpdist5|cpwvol5|\n",
      "+-----+-----+----+----+------+------+-------+-------+-------+--------+-------+-------+-------+\n",
      "|    0|   10|  10|  10|    10|    10|     10|     10|     10|      22|     22|     22|     22|\n",
      "+-----+-----+----+----+------+------+-------+-------+-------+--------+-------+-------+-------+\n",
      "\n"
     ]
    }
   ],
   "source": [
    "from pyspark.sql.functions import when, count, col\n",
    "\n",
    "for i in range(len(all_dfs)):\n",
    "    print(f'total count of {all_dfs_names[i]}:', all_dfs[i].count())\n",
    "    print('count NaN values in', all_dfs_names[i])\n",
    "    all_dfs[i].select([count(when(col(j).isNull(), j)).alias(j) for j in all_dfs[i].columns]).show()"
   ]
  },
  {
   "cell_type": "markdown",
   "metadata": {},
   "source": [
    "For the result of analysis we can see null items only in sales tables and demographic. In my opinion, null items in the sale columns it means that there is no discounts for item, but in the demographic data that means really null items"
   ]
  },
  {
   "cell_type": "code",
   "execution_count": 15,
   "metadata": {},
   "outputs": [
    {
     "name": "stdout",
     "output_type": "stream",
     "text": [
      "+-----+-----------+----------+-----------+-----------+----------+-----------+----------+------------+--------+-------+-------+-------+\n",
      "|store|      age60|      age9|       educ|     ethnic|    income|    hhlarge|   workwom|     hval150|sstrdist|sstrvol|cpdist5|cpwvol5|\n",
      "+-----+-----------+----------+-----------+-----------+----------+-----------+----------+------------+--------+-------+-------+-------+\n",
      "| 19.0|       NULL|      NULL|       NULL|       NULL|      NULL|       NULL|      NULL|        NULL|    NULL|   NULL|   NULL|   NULL|\n",
      "| 25.0|       NULL|      NULL|       NULL|       NULL|      NULL|       NULL|      NULL|        NULL|    NULL|   NULL|   NULL|   NULL|\n",
      "| 39.0|       NULL|      NULL|       NULL|       NULL|      NULL|       NULL|      NULL|        NULL|    NULL|   NULL|   NULL|   NULL|\n",
      "| 46.0|       NULL|      NULL|       NULL|       NULL|      NULL|       NULL|      NULL|        NULL|    NULL|   NULL|   NULL|   NULL|\n",
      "| 55.0|       NULL|      NULL|       NULL|       NULL|      NULL|       NULL|      NULL|        NULL|    NULL|   NULL|   NULL|   NULL|\n",
      "| 60.0|       NULL|      NULL|       NULL|       NULL|      NULL|       NULL|      NULL|        NULL|    NULL|   NULL|   NULL|   NULL|\n",
      "|108.0|       NULL|      NULL|       NULL|       NULL|      NULL|       NULL|      NULL|        NULL|    NULL|   NULL|   NULL|   NULL|\n",
      "|133.0|       NULL|      NULL|       NULL|       NULL|      NULL|       NULL|      NULL|        NULL|    NULL|   NULL|   NULL|   NULL|\n",
      "|136.0|       NULL|      NULL|       NULL|       NULL|      NULL|       NULL|      NULL|        NULL|    NULL|   NULL|   NULL|   NULL|\n",
      "|139.0|       NULL|      NULL|       NULL|       NULL|      NULL|       NULL|      NULL|        NULL|    NULL|   NULL|   NULL|   NULL|\n",
      "|301.0| 0.09403663| 0.1799883| 0.17496629|0.029719256| 10.723421| 0.18301937|0.33850375|  0.46532056|    NULL|   NULL|   NULL|   NULL|\n",
      "|302.0| 0.10242553|0.16209869|   0.281232| 0.07427781| 10.665764| 0.12352677| 0.4100529|  0.24561404|    NULL|   NULL|   NULL|   NULL|\n",
      "|303.0| 0.14200093| 0.1882136|0.050421383| 0.58937436|  9.938372| 0.21498147| 0.2978907|0.0047003524|    NULL|   NULL|   NULL|   NULL|\n",
      "|304.0| 0.11222132|0.11534379| 0.23737851| 0.34562543| 10.183881| 0.07877447|0.34163868|  0.67690057|    NULL|   NULL|   NULL|   NULL|\n",
      "|305.0| 0.14296642|0.16587487| 0.12072704|0.022827925| 10.523392|  0.1271302|0.33964851|  0.17966792|    NULL|   NULL|   NULL|   NULL|\n",
      "|306.0| 0.31292796|0.09438165| 0.16135436|0.026812969| 10.734373| 0.09395389|0.32911986|  0.42213234|    NULL|   NULL|   NULL|   NULL|\n",
      "|307.0|0.104416125|  0.181204|0.123701006| 0.07096562|10.6052475| 0.14693944|  0.394064|   0.1368839|    NULL|   NULL|   NULL|   NULL|\n",
      "|308.0| 0.23549783|0.12051948| 0.15978728| 0.18597403| 10.439542|0.113268115|0.31643003|  0.29022276|    NULL|   NULL|   NULL|   NULL|\n",
      "|309.0| 0.06719223|0.20015584| 0.27810326| 0.20478503| 10.757754| 0.15241838|0.39210925|  0.40666363|    NULL|   NULL|   NULL|   NULL|\n",
      "|310.0| 0.17701453|0.13464078| 0.28328925|0.045066558| 10.861496|  0.1003101|0.42142856|   0.5947752|    NULL|   NULL|   NULL|   NULL|\n",
      "+-----+-----------+----------+-----------+-----------+----------+-----------+----------+------------+--------+-------+-------+-------+\n",
      "only showing top 20 rows\n",
      "\n"
     ]
    }
   ],
   "source": [
    "from pyspark.sql.functions import col\n",
    "from functools import reduce\n",
    "\n",
    "null_condition = reduce(lambda a, b: a | b, (col(c).isNull() for c in demographic_df.columns))\n",
    "\n",
    "demographic_df.filter(null_condition).show()"
   ]
  },
  {
   "cell_type": "markdown",
   "metadata": {},
   "source": [
    "I will delete values only from demographic data, because its hard to choose categorical values for features and these rows dont have any values. The instance is above"
   ]
  },
  {
   "cell_type": "code",
   "execution_count": 16,
   "metadata": {},
   "outputs": [
    {
     "name": "stdout",
     "output_type": "stream",
     "text": [
      "+-----+-----------+-----------+-----------+-----------+----------+-----------+----------+-----------+----------+----------+---------+-----------+\n",
      "|store|      age60|       age9|       educ|     ethnic|    income|    hhlarge|   workwom|    hval150|  sstrdist|   sstrvol|  cpdist5|    cpwvol5|\n",
      "+-----+-----------+-----------+-----------+-----------+----------+-----------+----------+-----------+----------+----------+---------+-----------+\n",
      "|  2.0| 0.23286474|0.117508575| 0.24893494| 0.11427995|10.5532055|0.103953406|0.30358535| 0.46388707| 2.1101222| 1.1428572|1.9272797|  0.3769266|\n",
      "|  4.0|  0.2620299|  0.0950895| 0.22078942|0.062161274| 10.646972| 0.08812342|0.36212158| 0.52223635| 2.3732002|       1.0|1.1044705|  0.7724895|\n",
      "|  5.0|0.117368035| 0.14143348| 0.32122573| 0.05387528| 10.922371| 0.10309158|0.41056803| 0.53588337|  3.801998| 0.6818182|1.6005734| 0.73630685|\n",
      "|  8.0| 0.25239402|0.123155415| 0.09517328| 0.03524333|  10.59701|  0.1317497|0.28307474|0.054227155| 2.6363328|       1.5|2.9053843| 0.64101595|\n",
      "|  9.0| 0.26911902|  0.1035031| 0.22217232|0.032618824| 10.787151| 0.09683047| 0.3589945| 0.50574714| 1.1032788| 0.6666667|1.8204744| 0.44126827|\n",
      "| 12.0|  0.1783414| 0.10569674| 0.25341296|   0.380698|  9.996659|0.057212416| 0.3909416|  0.3866279|  9.198733| 1.1111112|0.8393032|0.105998814|\n",
      "| 14.0| 0.21394928| 0.12958938| 0.34829304|0.034178745| 11.043929|0.107894294|0.36230576|  0.7507699| 3.3209476|      0.75|2.3598912| 0.73181003|\n",
      "| 18.0| 0.27231336| 0.11009499|0.072246455|0.074417144| 10.391975| 0.09793763| 0.3139077|0.093351945| 1.9803071| 0.6666667|1.6843151| 0.15422477|\n",
      "| 21.0| 0.06689646| 0.17592634| 0.17750345| 0.10503878| 10.716194|  0.1641791|0.40607092| 0.12348574|0.26752466|      1.05|1.9539444|  0.6020732|\n",
      "| 28.0| 0.21330878| 0.12887953| 0.23316257|0.055935472| 10.798534| 0.10366566|0.38905853| 0.44514003| 2.9129224| 1.7272727|1.8207767|   0.814221|\n",
      "| 32.0| 0.25495303| 0.09906063| 0.19825986|0.031938516| 10.674475|0.080251366| 0.3441521|  0.5383464|  6.497972| 0.5217391| 3.337254|  0.3656598|\n",
      "| 33.0| 0.13416997| 0.04607092| 0.41968802| 0.13012718| 10.345927|0.013506356|0.47230828| 0.86255926| 3.1295562| 2.4166667|0.8672153|  0.7528246|\n",
      "| 40.0|  0.1818518| 0.13368465|  0.0721286|0.044053067|  10.55025|   0.126813|0.30610797| 0.06898939| 1.0863862|       0.4|1.2899201|  0.4446612|\n",
      "| 44.0| 0.19098277| 0.14488348| 0.32973838|0.037632074| 10.869159|  0.1163881|0.34079438| 0.64268523| 6.1347985|0.61538464|1.6431031| 0.53919023|\n",
      "| 45.0| 0.12885734| 0.14671876| 0.28015018| 0.08723387| 10.745378|0.083717205| 0.4641126|  0.3420171| 3.1588166|      1.25|2.8918905|  0.8875247|\n",
      "| 47.0|  0.1257983| 0.14296168| 0.14059865| 0.12067589| 10.635326| 0.14573158|0.39802703| 0.33567134| 4.9109106| 2.0285714| 1.967745| 0.79485536|\n",
      "| 48.0| 0.09792196| 0.12176708|  0.3032604|  0.0994917| 10.756029| 0.07848683|0.45968282|  0.3033563| 4.6506867| 1.6153846|2.1980712| 0.90441674|\n",
      "| 49.0|  0.1874732| 0.13487774| 0.31994995| 0.03835264| 10.806754| 0.10247191|0.34641173|   0.431709| 3.4394186| 2.2727273|1.8072357| 0.92056894|\n",
      "| 50.0| 0.15335737|0.124420404| 0.12876427| 0.07092564| 10.589308|  0.1117984| 0.3242127| 0.24018058| 2.7670462|0.72727275|1.9393286| 0.47097278|\n",
      "| 51.0| 0.17615972| 0.13247211| 0.17191671| 0.02542572| 10.620839| 0.13034081| 0.3131898|   0.316889| 2.1025538|      1.25|2.2267663| 0.31020257|\n",
      "+-----+-----------+-----------+-----------+-----------+----------+-----------+----------+-----------+----------+----------+---------+-----------+\n",
      "only showing top 20 rows\n",
      "\n"
     ]
    }
   ],
   "source": [
    "demographic_df = demographic_df.dropna()\n",
    "\n",
    "demographic_df.show()"
   ]
  },
  {
   "cell_type": "markdown",
   "metadata": {},
   "source": [
    "* ##### 2.1.3 Construct the main data for next analysis"
   ]
  },
  {
   "cell_type": "markdown",
   "metadata": {},
   "source": [
    "I need to merge beer/cigs/analgetics sales and demographic data. Let`s do it by these options:\n",
    "\n",
    "1. At first we need to get main params from each table of sales data:\n",
    "    * store number\n",
    "\n",
    "    * mean price of the product\n",
    "\n",
    "2. At second we can merge data from all sales tables by store number.\n",
    "\n",
    "3. At third we now can also merge demographic data and sales data by store number.\n",
    "\n",
    "4. By the end i wanna clean the table which i got."
   ]
  },
  {
   "cell_type": "code",
   "execution_count": 49,
   "metadata": {},
   "outputs": [],
   "source": [
    "beer_avg_price4merge = beer_sales_df.groupby('store').mean()[['store', 'avg(price)']].withColumnRenamed('avg(price)', 'mean_price_beer')\n",
    "\n",
    "cigs_avg_price4merge = cig_sales_df.groupby('store').mean()[['store', 'avg(price)']].withColumnRenamed('avg(price)', 'mean_price_cigs')\n",
    "cigs_avg_price4merge = cigs_avg_price4merge.join(beer_avg_price4merge, 'store')\n",
    "\n",
    "ana_avg_price4merge = ana_sales_df.groupby('store').mean()[['store', 'avg(price)']].withColumnRenamed('avg(price)', 'mean_price_ana')\n",
    "\n",
    "merged_avg_price_df = cigs_avg_price4merge.join(ana_avg_price4merge, 'store')"
   ]
  },
  {
   "cell_type": "markdown",
   "metadata": {},
   "source": [
    "Then I want to create a demand indicator for all products: beer, cigarettes, analgesics. I can do it by get all sales from the relevant category"
   ]
  },
  {
   "cell_type": "code",
   "execution_count": 69,
   "metadata": {},
   "outputs": [],
   "source": [
    "beer_sum_sales4merge = beer_sales_df.groupby('store').sum()[['store', 'sum(move)']].withColumnRenamed('sum(move)', 'sum_move_beer')\n",
    "\n",
    "cigs_sum_sales4merge = cig_sales_df.groupby('store').sum()[['store', 'sum(move)']].withColumnRenamed('sum(move)', 'sum_move_cigs')\n",
    "cigs_sum_sales4merge = cigs_sum_sales4merge.join(beer_sum_sales4merge, 'store')\n",
    "\n",
    "ana_sum_sales4merge = ana_sales_df.groupby('store').sum()[['store', 'sum(move)']].withColumnRenamed('sum(move)', 'sum_move_ana')\n",
    "\n",
    "merged_sum_sales_df = cigs_sum_sales4merge.join(ana_sum_sales4merge, 'store')\n",
    "\n",
    "preferred_product_df = merged_sum_sales_df.withColumn(\n",
    "    \"preferred_product\",\n",
    "    when(\n",
    "        (merged_sum_sales_df['sum_move_cigs'] > merged_sum_sales_df['sum_move_ana']) &\n",
    "        (merged_sum_sales_df['sum_move_cigs'] > merged_sum_sales_df['sum_move_beer']),\n",
    "        0\n",
    "    ).when(\n",
    "        (merged_sum_sales_df['sum_move_ana'] > merged_sum_sales_df['sum_move_cigs']) & \n",
    "        (merged_sum_sales_df['sum_move_ana'] > merged_sum_sales_df['sum_move_beer']),\n",
    "        1\n",
    "    ).otherwise(2)\n",
    ")\n",
    "\n",
    "preferred_product_df = preferred_product_df.select([\"store\", \"preferred_product\"])"
   ]
  },
  {
   "cell_type": "markdown",
   "metadata": {},
   "source": [
    "0 - cigs\n",
    "1 - ana\n",
    "2 - beer"
   ]
  },
  {
   "cell_type": "markdown",
   "metadata": {},
   "source": [
    "After I get all the new indicators for search demands, I can to merge them into one data frame"
   ]
  },
  {
   "cell_type": "code",
   "execution_count": 70,
   "metadata": {},
   "outputs": [
    {
     "name": "stdout",
     "output_type": "stream",
     "text": [
      "+-----------+-----------+-----------+-----------+----------+-----------+----------+-----------+----------+----------+---------+----------+------------------+------------------+------------------+-----------------+\n",
      "|      age60|       age9|       educ|     ethnic|    income|    hhlarge|   workwom|    hval150|  sstrdist|   sstrvol|  cpdist5|   cpwvol5|   mean_price_cigs|   mean_price_beer|    mean_price_ana|preferred_product|\n",
      "+-----------+-----------+-----------+-----------+----------+-----------+----------+-----------+----------+----------+---------+----------+------------------+------------------+------------------+-----------------+\n",
      "| 0.08972372| 0.16361186|  0.3298985| 0.06971024| 10.882659|0.096660964|0.44016436|  0.5606521| 3.1011126|0.53571427| 3.017843| 0.3116663|3.8760883829343364| 3.202021265348063|2.5245766147687485|                0|\n",
      "| 0.29935256| 0.10308493| 0.15159243| 0.02644831|  10.64766| 0.09155983| 0.2975149| 0.37817302|  4.235049| 0.5217391| 3.305795|0.36691597| 2.058630254112695| 3.148736798194787| 2.377178527980669|                2|\n",
      "| 0.14511731| 0.15092918| 0.14340685|  0.9848963|   9.96665| 0.11108151|0.33702976| 0.08056537| 17.855951| 1.6363636|0.9518156|0.09456175|0.9448407643311805| 2.528656495839598|1.6512055399696572|                2|\n",
      "| 0.10110045| 0.17471676|  0.3768711| 0.07350789| 10.983121| 0.11809318|0.41416383|  0.6241135| 1.8754877| 1.1764706|2.5103133|0.55435234|  3.42094125567236| 2.988042779110427| 2.232640371133311|                0|\n",
      "| 0.10700227| 0.16005988|  0.4132224|0.045018572| 10.980876| 0.11369947|0.42195928|  0.5736264|  5.065201| 1.6904762|1.8582603| 0.7177993|2.4820378230829347|3.1095259306812015| 2.542380016569572|                2|\n",
      "| 0.15335737|0.124420404| 0.12876427| 0.07092564| 10.589308|  0.1117984| 0.3242127| 0.24018058| 2.7670462|0.72727275|1.9393286|0.47097278|2.3488188207731566|1.4111248220219064| 1.576579533640269|                0|\n",
      "|  0.1030022| 0.16041006|  0.2293904| 0.05931169| 10.744515| 0.12811138|0.40231323|  0.3674468| 3.9600194| 1.4947368| 1.804933|0.42732802|3.6740959268085605| 3.032985583479469| 2.299322941418885|                0|\n",
      "|0.114956684| 0.17559406| 0.16755319| 0.15294445|  10.52086| 0.16195063| 0.4043141| 0.23274125|  8.458997|0.95454544| 2.335458| 0.3219272| 3.761295153335487| 2.893775583226252|1.9830037002105392|                0|\n",
      "| 0.25495303| 0.09906063| 0.19825986|0.031938516| 10.674475|0.080251366| 0.3441521|  0.5383464|  6.497972| 0.5217391| 3.337254| 0.3656598|2.6400121680991604| 3.304492867514634|2.4817840607075796|                0|\n",
      "|     0.1221| 0.16465728| 0.18809432| 0.02963639| 10.765617|  0.1615925|0.34635824| 0.49144107|0.96616167| 1.6842105| 1.582359|0.61863405| 4.198656313126754| 2.708546635035684|2.4184737919786863|                0|\n",
      "| 0.12157497| 0.14566958| 0.27995202|0.049584955| 10.752719| 0.08935035|0.46226618| 0.45940593| 2.2137907| 1.1538461|2.7195945|0.72236735| 3.421541334943416|2.6639877702114085|2.1547815004199014|                0|\n",
      "| 0.24920054|  0.1185165| 0.05170282| 0.16496374| 10.573596| 0.12540941| 0.2995844|0.009843472|  6.230357|       1.5|3.1331768|0.38156936| 1.226178845227925|3.0849636632109703|2.5021132910636177|                2|\n",
      "| 0.18817338| 0.13987723| 0.25922474|0.033137057| 10.697113| 0.11765719|0.35563514|  0.3081605| 3.2150795| 1.6666666|1.5577642| 0.8128833|2.5605856721430187|2.8932868003227274|2.1329712394848617|                0|\n",
      "| 0.23071751| 0.11263533|0.085642084| 0.09690001| 10.383472| 0.10507432| 0.2928462|0.042876285|  8.551712| 1.4285715| 2.007204|0.48920622|1.3055438320983364|2.4152177343359766|2.0831909254987946|                0|\n",
      "| 0.26807088|0.111723684| 0.15958808| 0.07482801| 10.404839| 0.07501373|0.30310175| 0.16388243| 6.6738796|      1.45| 1.818359| 0.2664742|  1.56619879022614|2.7493242311806902|2.1743099261803653|                0|\n",
      "| 0.18141776|  0.1309704| 0.15972151| 0.22099106| 10.188366| 0.10847638|0.33053964| 0.21865444| 6.6506014| 1.5384616|1.6261919|0.12509207|1.4246508979413286| 2.372229563709607|2.0442705109320505|                2|\n",
      "| 0.28372768|0.105576314| 0.26872456|0.045938842|10.7121935| 0.10152284|0.33113098| 0.57131517|  3.002118|0.85714287|1.6961527| 0.6449078|1.3229586832647464|2.6748246635220347| 2.033997558975569|                0|\n",
      "| 0.26186746| 0.11908932| 0.27305192|0.025624482| 10.827131| 0.09431695|0.31122053|  0.5339496|   5.82137| 1.1904762|1.9946449|0.30036446|3.0731228044396466| 3.022935662050842| 2.545106168557451|                2|\n",
      "| 0.26911902|  0.1035031| 0.22217232|0.032618824| 10.787151| 0.09683047| 0.3589945| 0.50574714| 1.1032788| 0.6666667|1.8204744|0.44126827|1.5380320710682371| 2.565605843890607|2.1812298920266815|                0|\n",
      "| 0.17615972| 0.13247211| 0.17191671| 0.02542572| 10.620839| 0.13034081| 0.3131898|   0.316889| 2.1025538|      1.25|2.2267663|0.31020257|2.4237113270257784| 2.579403291292878|2.3467550436454103|                0|\n",
      "+-----------+-----------+-----------+-----------+----------+-----------+----------+-----------+----------+----------+---------+----------+------------------+------------------+------------------+-----------------+\n",
      "only showing top 20 rows\n",
      "\n"
     ]
    }
   ],
   "source": [
    "demographic_avg_price_merged_df = demographic_df.join(merged_avg_price_df, 'store')\n",
    "demographic_sales_df = demographic_avg_price_merged_df.join(preferred_product_df, 'store')\n",
    "\n",
    "demographic_sales_df = demographic_sales_df.drop('store')\n",
    "\n",
    "demographic_sales_df.show()"
   ]
  },
  {
   "cell_type": "markdown",
   "metadata": {},
   "source": [
    "* #### 2.2 Visualization of the data and dependency search"
   ]
  },
  {
   "cell_type": "markdown",
   "metadata": {},
   "source": [
    "I need to find dependence between one product or category of products, i wanna choose the category of products. Because i think that at first the main goal find a category from this category that we need to sale, then we can find the main product from this category which we can sale with more benefit"
   ]
  },
  {
   "cell_type": "markdown",
   "metadata": {},
   "source": [
    "* ##### 2.2.1 Heatmap"
   ]
  },
  {
   "cell_type": "code",
   "execution_count": 71,
   "metadata": {},
   "outputs": [],
   "source": [
    "from pyspark.ml.stat import Correlation\n",
    "from pyspark.ml.feature import VectorAssembler\n",
    "import numpy as np\n",
    "\n",
    "vector_col = \"corr_features\"\n",
    "assembler = VectorAssembler(inputCols=demographic_sales_df.columns, outputCol=vector_col)\n",
    "demographic_sales_df_vector = assembler.transform(demographic_sales_df).select(vector_col)\n",
    "\n",
    "corr_matrix = Correlation.corr(demographic_sales_df_vector, vector_col)\n",
    "\n",
    "corr_matrix = corr_matrix.collect()[0][f'pearson({vector_col})'].values\n",
    "\n",
    "corr_matrix = np.reshape(corr_matrix, (-1, len(demographic_sales_df.columns)))"
   ]
  },
  {
   "cell_type": "code",
   "execution_count": 53,
   "metadata": {},
   "outputs": [
    {
     "data": {
      "text/plain": [
       "<Axes: >"
      ]
     },
     "execution_count": 53,
     "metadata": {},
     "output_type": "execute_result"
    },
    {
     "data": {
      "image/png": "[encoded data removed]",
      "text/plain": [
       "<Figure size 640x480 with 2 Axes>"
      ]
     },
     "metadata": {},
     "output_type": "display_data"
    }
   ],
   "source": [
    "import seaborn as sns\n",
    "\n",
    "sns.heatmap(corr_matrix, cmap='coolwarm', square=True)"
   ]
  },
  {
   "cell_type": "code",
   "execution_count": null,
   "metadata": {},
   "outputs": [
    {
     "name": "stdout",
     "output_type": "stream",
     "text": [
      "Признаки age60 и age9 имеют корреляцию -0.71\n",
      "Признаки age9 и age60 имеют корреляцию -0.71\n",
      "Признаки age9 и hhlarge имеют корреляцию 0.76\n",
      "Признаки educ и hval150 имеют корреляцию 0.89\n",
      "Признаки ethnic и income имеют корреляцию -0.71\n",
      "Признаки income и ethnic имеют корреляцию -0.71\n",
      "Признаки hhlarge и age9 имеют корреляцию 0.76\n",
      "Признаки hval150 и educ имеют корреляцию 0.89\n"
     ]
    }
   ],
   "source": [
    "import pandas as pd\n",
    "\n",
    "columns = demographic_sales_df.columns\n",
    "corr_df = pd.DataFrame(corr_matrix, columns=columns, index=columns)\n",
    "\n",
    "threshold = 0.7\n",
    "\n",
    "high_corr_pairs = [\n",
    "    (col1, col2, corr_df.loc[col1, col2])\n",
    "    for col1 in columns\n",
    "    for col2 in columns\n",
    "    if col1 != col2 and abs(corr_df.loc[col1, col2]) > threshold if col1\n",
    "]\n",
    "\n",
    "for col1, col2, corr in high_corr_pairs:\n",
    "    print(f\"Признаки {col1} и {col2} имеют корреляцию {corr:.2f}\")"
   ]
  },
  {
   "cell_type": "markdown",
   "metadata": {},
   "source": [
    "based on correlation information i can say that there is no uncommon dependences, which we cant to imagine and there is no dependences which can influence on cigs/ana/beer sales\n",
    "\n",
    "The most big dependence is age and mean price for product"
   ]
  },
  {
   "cell_type": "markdown",
   "metadata": {},
   "source": [
    "* ##### 2.2.2 Feature Importance"
   ]
  },
  {
   "cell_type": "code",
   "execution_count": null,
   "metadata": {},
   "outputs": [],
   "source": []
  },
  {
   "cell_type": "markdown",
   "metadata": {},
   "source": [
    "* ##### 2.2.3 Seasonality Analysis"
   ]
  },
  {
   "cell_type": "code",
   "execution_count": null,
   "metadata": {},
   "outputs": [],
   "source": []
  },
  {
   "cell_type": "markdown",
   "metadata": {},
   "source": [
    "___"
   ]
  }
 ],
 "metadata": {
  "kernelspec": {
   "display_name": "base",
   "language": "python",
   "name": "python3"
  },
  "language_info": {
   "codemirror_mode": {
    "name": "ipython",
    "version": 3
   },
   "file_extension": ".py",
   "mimetype": "text/x-python",
   "name": "python",
   "nbconvert_exporter": "python",
   "pygments_lexer": "ipython3",
   "version": "3.12.7"
  }
 },
 "nbformat": 4,
 "nbformat_minor": 2
}
