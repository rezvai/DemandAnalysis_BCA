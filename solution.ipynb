{
 "cells": [
  {
   "cell_type": "markdown",
   "metadata": {},
   "source": [
    "## 1. Read the data"
   ]
  },
  {
   "cell_type": "markdown",
   "metadata": {},
   "source": [
    "* 1.1 Creating the app for a parquet reader from PySpark"
   ]
  },
  {
   "cell_type": "code",
   "execution_count": 1,
   "metadata": {},
   "outputs": [],
   "source": [
    "import pyspark as ps\n",
    "from pyspark.sql import SparkSession\n",
    "\n",
    "appName = \"Parquet reader\"\n",
    "master = \"local\"\n",
    "\n",
    "spark = SparkSession.builder.appName(appName).master(master).getOrCreate()"
   ]
  },
  {
   "cell_type": "markdown",
   "metadata": {},
   "source": [
    "* 1.2 Reading of all data"
   ]
  },
  {
   "cell_type": "code",
   "execution_count": 19,
   "metadata": {},
   "outputs": [],
   "source": [
    "ana_sales_df  = spark.read.parquet(r'data\\ana_sales_data.parquet').drop('__index_level_0__')\n",
    "\n",
    "ana_upc_df  = spark.read.parquet(r'data\\ana_upc.parquet')\n",
    "\n",
    "beer_sales_df  = spark.read.parquet(r'data\\beer_sales_data.parquet').drop('__index_level_0__')\n",
    "\n",
    "beer_upc_df  = spark.read.parquet(r'data\\beer_upc.parquet')\n",
    "\n",
    "cig_sales_df = spark.read.parquet(r'data\\cig_sales_data.parquet').drop('__index_level_0__')\n",
    "\n",
    "cig_upc_df  = spark.read.parquet(r'data\\cig_upc.parquet')\n",
    "\n",
    "demographic_df  = spark.read.parquet(r'data\\demographic_data.parquet').drop('__index_level_0__')\n"
   ]
  },
  {
   "cell_type": "markdown",
   "metadata": {},
   "source": [
    "* 1.3 Printing of all dfs and their describes"
   ]
  },
  {
   "cell_type": "code",
   "execution_count": 22,
   "metadata": {},
   "outputs": [
    {
     "name": "stdout",
     "output_type": "stream",
     "text": [
      "ana_sales_data.parquet\n",
      "\n",
      "+-----+----------+----+----+---+-----+----+\n",
      "|store|       upc|week|move|qty|price|sale|\n",
      "+-----+----------+----+----+---+-----+----+\n",
      "|   76|1192603016| 306|   0|  1|  0.0|NULL|\n",
      "|   76|1192603016| 307|   1|  1| 2.99|NULL|\n",
      "|   76|1192603016| 308|   0|  1|  0.0|NULL|\n",
      "|   76|1192603016| 309|   0|  1|  0.0|NULL|\n",
      "|   76|1192603016| 310|   0|  1|  0.0|NULL|\n",
      "+-----+----------+----+----+---+-----+----+\n",
      "only showing top 5 rows\n",
      "\n",
      "+-------+-----------------+--------------------+------------------+-----------------+-------+------------------+------+\n",
      "|summary|            store|                 upc|              week|             move|    qty|             price|  sale|\n",
      "+-------+-----------------+--------------------+------------------+-----------------+-------+------------------+------+\n",
      "|  count|          7241655|             7241655|           7241655|          7241655|7241655|           7241655|262623|\n",
      "|   mean|86.97370849619321|2.762577532630987E10|222.75456908676261|1.109366160083572|    1.0|2.1761395730656816|  NULL|\n",
      "| stddev|36.41676669928949| 9.695559832623846E9|111.31998883677147|  2.4309387787076|    0.0|2.9811695228729875|  NULL|\n",
      "|    min|                2|          1192603016|                 1|                0|      1|               0.0|     B|\n",
      "|    max|              146|         78765150152|               399|              963|      1|             23.69|     S|\n",
      "+-------+-----------------+--------------------+------------------+-----------------+-------+------------------+------+\n",
      "\n"
     ]
    }
   ],
   "source": [
    "print('ana_sales_data.parquet', end=\"\\n\\n\")\n",
    "ana_sales_df.show(5)\n",
    "ana_sales_df.describe().show()"
   ]
  },
  {
   "cell_type": "code",
   "execution_count": 23,
   "metadata": {},
   "outputs": [
    {
     "name": "stdout",
     "output_type": "stream",
     "text": [
      "ana_upc.parquet\n",
      "\n",
      "+--------+----------+--------------------+-----+----+-------+\n",
      "|com_code|       upc|             descrip| size|case|  nitem|\n",
      "+--------+----------+--------------------+-----+----+-------+\n",
      "|     953|1192603016|CAFFEDRINE CAPLETS 1|16 CT|   6|7342431|\n",
      "|     953|1192662108|   SLEEPINAL SOFTGEL| 8 CT|   6|7333311|\n",
      "|     953|1650001020|        NERVINE TABS|30 CT|   1|8430820|\n",
      "|     953|1650001022|   NERVINE SLEEP AID|12 CT|   1|8430840|\n",
      "|     953|1650004106|   ALKA-SELTZER GOLD|20 CT|   1|8430880|\n",
      "+--------+----------+--------------------+-----+----+-------+\n",
      "only showing top 5 rows\n",
      "\n",
      "+-------+--------+--------------------+--------------------+-----+------------------+------------------+\n",
      "|summary|com_code|                 upc|             descrip| size|              case|             nitem|\n",
      "+-------+--------+--------------------+--------------------+-----+------------------+------------------+\n",
      "|  count|     641|                 641|                 641|  641|               641|               641|\n",
      "|   mean|   953.0|2.706753800791887...|                NULL| NULL| 7.581903276131046|  6693831.72074883|\n",
      "| stddev|     0.0| 1.13826496457975E10|                NULL| NULL|12.588930534278123|1138404.7373800157|\n",
      "|    min|     953|          1192603016|      #ADVIL TABLETS|.5 OZ|                 1|            612260|\n",
      "|    max|     953|         78765150152|~TYLENOL X/S FASTCAP| ASST|               144|           9994030|\n",
      "+-------+--------+--------------------+--------------------+-----+------------------+------------------+\n",
      "\n"
     ]
    }
   ],
   "source": [
    "print('ana_upc.parquet', end=\"\\n\\n\")\n",
    "ana_upc_df.show(5)\n",
    "ana_upc_df.describe().show()"
   ]
  },
  {
   "cell_type": "code",
   "execution_count": 24,
   "metadata": {},
   "outputs": [
    {
     "name": "stdout",
     "output_type": "stream",
     "text": [
      "beer_sales_data.parquet\n",
      "\n",
      "+-----+---+----+----+---+-----+----+\n",
      "|store|upc|week|move|qty|price|sale|\n",
      "+-----+---+----+----+---+-----+----+\n",
      "|    2|294| 298|  11|  1| 2.62|NULL|\n",
      "|    2|294| 299|   9|  1| 2.51|NULL|\n",
      "|    2|294| 300|   6|  1| 2.49|NULL|\n",
      "|    2|294| 301|   5|  1| 2.99|NULL|\n",
      "|    2|294| 302|   1|  1| 2.49|NULL|\n",
      "+-----+---+----+----+---+-----+----+\n",
      "only showing top 5 rows\n",
      "\n",
      "+-------+------------------+--------------------+------------------+-----------------+--------------------+------------------+------+\n",
      "|summary|             store|                 upc|              week|             move|                 qty|             price|  sale|\n",
      "+-------+------------------+--------------------+------------------+-----------------+--------------------+------------------+------+\n",
      "|  count|           3967720|             3967720|           3967720|          3967720|             3967720|           3967720|547436|\n",
      "|   mean|  88.8170395088363| 7.234428652522762E9|236.44771279223332|3.383864032744246|   1.000011089492202|2.8190411349555675|  NULL|\n",
      "| stddev|36.354691869621504|1.072429249578282...| 84.10144603633947|8.877260581366855|0.003330070873139...|3.4220096645687055|  NULL|\n",
      "|    min|                 2|                 294|                91|                0|                   1|               0.0|     B|\n",
      "|    max|               146|         79709638102|               399|              769|                   2|             29.64|     S|\n",
      "+-------+------------------+--------------------+------------------+-----------------+--------------------+------------------+------+\n",
      "\n"
     ]
    }
   ],
   "source": [
    "print('beer_sales_data.parquet', end=\"\\n\\n\")\n",
    "beer_sales_df.show(5)\n",
    "beer_sales_df.describe().show()"
   ]
  },
  {
   "cell_type": "code",
   "execution_count": 25,
   "metadata": {},
   "outputs": [
    {
     "name": "stdout",
     "output_type": "stream",
     "text": [
      "beer_upc.parquet\n",
      "\n",
      "+--------+---+--------------------+------+----+-------+\n",
      "|com_code|upc|             descrip|  size|case|  nitem|\n",
      "+--------+---+--------------------+------+----+-------+\n",
      "|      27|294|          BEER LIMIT|12/12O|   2|9990180|\n",
      "|      26|307|HEINEKEN KINGSIZE CA|259 OZ|   1|9490410|\n",
      "|      27|710|      BUDWEISER BEER|24/12O|   1|9402300|\n",
      "|      27|711|  BUDWEISER DRY BEER|24/12O|   1|9402650|\n",
      "|      27|712|BUDWEISER LIGHT BEER|24/12O|   1|9402600|\n",
      "+--------+---+--------------------+------+----+-------+\n",
      "only showing top 5 rows\n",
      "\n",
      "+-------+------------------+--------------------+--------------------+------+-----------------+-----------------+\n",
      "|summary|          com_code|                 upc|             descrip|  size|             case|            nitem|\n",
      "+-------+------------------+--------------------+--------------------+------+-----------------+-----------------+\n",
      "|  count|               790|                 790|                 790|   790|              790|              790|\n",
      "|   mean|26.848101265822784| 9.592659414381012E9|                NULL|  NULL|4.372151898734177|9072239.172151899|\n",
      "| stddev| 0.482615592120255|1.606645171043269...|                NULL|  NULL|3.451380088354024|9889993.530674987|\n",
      "|    min|                26|                 294|$ARIEL NA CHARDONNAY|10/12O|                1|       -268439164|\n",
      "|    max|                28|         79709638102|~SANTA CLAUSS XMAS B| 8/7OZ|               24|          9990180|\n",
      "+-------+------------------+--------------------+--------------------+------+-----------------+-----------------+\n",
      "\n"
     ]
    }
   ],
   "source": [
    "print('beer_upc.parquet', end=\"\\n\\n\")\n",
    "beer_upc_df.show(5)\n",
    "beer_upc_df.describe().show()"
   ]
  },
  {
   "cell_type": "code",
   "execution_count": 26,
   "metadata": {},
   "outputs": [
    {
     "name": "stdout",
     "output_type": "stream",
     "text": [
      "cig_sales_data.parquet\n",
      "\n",
      "+-----+---+----+----+---+-----+----+\n",
      "|store|upc|week|move|qty|price|sale|\n",
      "+-----+---+----+----+---+-----+----+\n",
      "|    8|190| 194|   0|  1|  0.0|NULL|\n",
      "|    8|190| 195|   2|  1|21.51|NULL|\n",
      "|    8|190| 196|   0|  1|  0.0|NULL|\n",
      "|    8|190| 197|   0|  1|  0.0|NULL|\n",
      "|    8|190| 198|   0|  1|  0.0|NULL|\n",
      "+-----+---+----+----+---+-----+----+\n",
      "only showing top 5 rows\n",
      "\n",
      "+-------+-----------------+--------------------+------------------+-----------------+-------+------------------+----+\n",
      "|summary|            store|                 upc|              week|             move|    qty|             price|sale|\n",
      "+-------+-----------------+--------------------+------------------+-----------------+-------+------------------+----+\n",
      "|  count|          5331369|             5331369|           5331369|          5331369|5331369|           5331369|  21|\n",
      "|   mean|83.65051115388937|1.7699665368554485E9|228.80291009682503|2.900192802261483|    1.0|2.5995884287354083|NULL|\n",
      "| stddev|37.29878714928176| 8.480859326813791E8| 107.0460706684725|42.03083198800068|    0.0| 5.882909677221625|NULL|\n",
      "|    min|                2|                 190|                 1|                0|      1|               0.0|   S|\n",
      "|    max|              146|          8640912356|               399|             3059|      1|             250.0|   S|\n",
      "+-------+-----------------+--------------------+------------------+-----------------+-------+------------------+----+\n",
      "\n"
     ]
    }
   ],
   "source": [
    "print('cig_sales_data.parquet', end=\"\\n\\n\")\n",
    "cig_sales_df.show(5)\n",
    "cig_sales_df.describe().show()"
   ]
  },
  {
   "cell_type": "code",
   "execution_count": 27,
   "metadata": {},
   "outputs": [
    {
     "name": "stdout",
     "output_type": "stream",
     "text": [
      "cig_upc.parquet\n",
      "\n",
      "+--------+---+--------------------+----+----+-----+\n",
      "|com_code|upc|             descrip|size|case|nitem|\n",
      "+--------+---+--------------------+----+----+-----+\n",
      "|     700|190|KING CARTON CIGS (PL|1 CT|   1|86040|\n",
      "|     700|191|100'S CARTON CIGS (P|1 CT|   1|86060|\n",
      "|     705|193|25 CT SINGLE PACK CI|1 CT|   8|80080|\n",
      "|     705|194|      GENERIC SINGLE|1 CT|  10|80020|\n",
      "|     700|195|KING CARTON PRICE VA|1 CT|   1|86050|\n",
      "+--------+---+--------------------+----+----+-----+\n",
      "only showing top 5 rows\n",
      "\n",
      "+-------+------------------+--------------------+--------------------+------+------------------+------------------+\n",
      "|summary|          com_code|                 upc|             descrip|  size|              case|             nitem|\n",
      "+-------+------------------+--------------------+--------------------+------+------------------+------------------+\n",
      "|  count|               942|                 942|                 942|   942|               942|               942|\n",
      "|   mean| 702.4203821656051|2.8654127057569003E9|                NULL|  NULL|4.2441613588110405|  85232.6220806794|\n",
      "| stddev|2.5000592261678407| 1.769954889516153E9|                NULL|  NULL| 4.347283819502062|2453.0227343070746|\n",
      "|    min|               700|                 190|        100'S CARTON|.75 OZ|                 1|             80000|\n",
      "|    max|               705|          8640912356|WINSTON SELECT 20Õ O|  PACK|                20|             91460|\n",
      "+-------+------------------+--------------------+--------------------+------+------------------+------------------+\n",
      "\n"
     ]
    }
   ],
   "source": [
    "print('cig_upc.parquet', end=\"\\n\\n\")\n",
    "cig_upc_df.show(5)\n",
    "cig_upc_df.describe().show()"
   ]
  },
  {
   "cell_type": "code",
   "execution_count": 28,
   "metadata": {},
   "outputs": [
    {
     "name": "stdout",
     "output_type": "stream",
     "text": [
      "demographic_data.parquet\n",
      "\n",
      "+-----+-----------+-----------+----------+-----------+----------+-----------+----------+-----------+---------+---------+---------+----------+\n",
      "|store|      age60|       age9|      educ|     ethnic|    income|    hhlarge|   workwom|    hval150| sstrdist|  sstrvol|  cpdist5|   cpwvol5|\n",
      "+-----+-----------+-----------+----------+-----------+----------+-----------+----------+-----------+---------+---------+---------+----------+\n",
      "|  2.0| 0.23286474|0.117508575|0.24893494| 0.11427995|10.5532055|0.103953406|0.30358535| 0.46388707|2.1101222|1.1428572|1.9272797| 0.3769266|\n",
      "|  4.0|  0.2620299|  0.0950895|0.22078942|0.062161274| 10.646972| 0.08812342|0.36212158| 0.52223635|2.3732002|      1.0|1.1044705| 0.7724895|\n",
      "|  5.0|0.117368035| 0.14143348|0.32122573| 0.05387528| 10.922371| 0.10309158|0.41056803| 0.53588337| 3.801998|0.6818182|1.6005734|0.73630685|\n",
      "|  8.0| 0.25239402|0.123155415|0.09517328| 0.03524333|  10.59701|  0.1317497|0.28307474|0.054227155|2.6363328|      1.5|2.9053843|0.64101595|\n",
      "|  9.0| 0.26911902|  0.1035031|0.22217232|0.032618824| 10.787151| 0.09683047| 0.3589945| 0.50574714|1.1032788|0.6666667|1.8204744|0.44126827|\n",
      "+-----+-----------+-----------+----------+-----------+----------+-----------+----------+-----------+---------+---------+---------+----------+\n",
      "only showing top 5 rows\n",
      "\n",
      "+-------+------------------+-------------------+-------------------+-------------------+-------------------+-------------------+-------------------+--------------------+-------------------+------------------+------------------+-----------------+-------------------+\n",
      "|summary|             store|              age60|               age9|               educ|             ethnic|             income|            hhlarge|             workwom|            hval150|          sstrdist|           sstrvol|          cpdist5|            cpwvol5|\n",
      "+-------+------------------+-------------------+-------------------+-------------------+-------------------+-------------------+-------------------+--------------------+-------------------+------------------+------------------+-----------------+-------------------+\n",
      "|  count|               107|                 97|                 97|                 97|                 97|                 97|                 97|                  97|                 97|                85|                85|               85|                 85|\n",
      "|   mean|104.93457943925233| 0.1700461983450295| 0.1402386010614867|0.21881457544940033| 0.1536223649517777| 10.609433911510349|0.11810489243722146|   0.358463746063488|0.33848199538032037| 5.026879904375357|1.2142983671496896| 2.10861840318231| 0.4475046476020533|\n",
      "| stddev| 80.32273005067219|0.06397142018240193|0.02692101291496665|0.10796796097085189|0.18289678556987907|0.27805855020838033|0.03193333727575323|0.051302635484898405|0.23668322462484986|3.4769424323192366|0.5283236703859804|0.737315041009674|0.22441662127086554|\n",
      "|    min|               2.0|        0.058053967|         0.04607092|        0.049550287|        0.022827925|           9.867083|        0.013506356|          0.24446267|       0.0025094103|        0.13209683|               0.4|        0.7725297|         0.09456175|\n",
      "|    max|             315.0|         0.31292796|         0.20015584|         0.52836204|         0.99569076|         11.2361965|         0.21635434|          0.47230828|         0.91669947|         17.855951|         2.5714285|        4.1079016|          1.1433666|\n",
      "+-------+------------------+-------------------+-------------------+-------------------+-------------------+-------------------+-------------------+--------------------+-------------------+------------------+------------------+-----------------+-------------------+\n",
      "\n"
     ]
    }
   ],
   "source": [
    "print('demographic_data.parquet', end=\"\\n\\n\")\n",
    "demographic_df.show(5)\n",
    "demographic_df.describe().show()"
   ]
  },
  {
   "cell_type": "markdown",
   "metadata": {},
   "source": [
    "___"
   ]
  },
  {
   "cell_type": "markdown",
   "metadata": {},
   "source": [
    "## 2. Preprocessing of all data and EDA"
   ]
  },
  {
   "cell_type": "code",
   "execution_count": 65,
   "metadata": {},
   "outputs": [],
   "source": [
    "all_dfs_names = ['ana_sales_df', 'ana_upc_df', 'beer_sales_df', 'beer_upc_df', 'cig_sales_df', 'cig_upc_df', 'demographic_df']\n",
    "all_dfs = [ana_sales_df, ana_upc_df, beer_sales_df, beer_upc_df, cig_sales_df, cig_upc_df, demographic_df]"
   ]
  },
  {
   "cell_type": "markdown",
   "metadata": {},
   "source": [
    "* 2.1 Deleting all duplicates "
   ]
  },
  {
   "cell_type": "code",
   "execution_count": null,
   "metadata": {},
   "outputs": [
    {
     "name": "stdout",
     "output_type": "stream",
     "text": [
      "Count items before deleting duplicates\n",
      "ana_sales_df: 7241655\n",
      "\n",
      " ana_upc_df: 641\n",
      "\n",
      " beer_sales_df: 3967720\n",
      "\n",
      " beer_upc_df: 790\n",
      "\n",
      " cig_sales_df: 5331369\n",
      "\n",
      " cig_upc_df: 942\n",
      "\n",
      " demographic_df: 107\n",
      "\n",
      "\n",
      "Count items after deleting duplicates\n",
      "ana_sales_df: 7241655\n",
      "\n",
      " ana_upc_df: 641\n",
      "\n",
      " beer_sales_df: 3967720\n",
      "\n",
      " beer_upc_df: 790\n",
      "\n",
      " cig_sales_df: 5331369\n",
      "\n",
      " cig_upc_df: 942\n",
      "\n",
      " demographic_df: 107\n",
      "\n",
      "\n"
     ]
    }
   ],
   "source": [
    "print('Count items before deleting duplicates')\n",
    "print(*[f'{all_dfs_names[i]}: {all_dfs[i].count()}\\n\\n' for i in range(len(all_dfs))])\n",
    "\n",
    "\n",
    "all_dfs_without_duplicates = list(map(lambda df: df.drop_duplicates(), all_dfs))\n",
    "print('Count items after deleting duplicates')\n",
    "print(*[f'{all_dfs_names[i]}: {all_dfs_without_duplicates[i].count()}\\n\\n' for i in range(len(all_dfs))])"
   ]
  },
  {
   "cell_type": "markdown",
   "metadata": {},
   "source": [
    "There are no doplicates in the data"
   ]
  },
  {
   "cell_type": "markdown",
   "metadata": {},
   "source": [
    "* 2.2 Counting and filling omnissions(NaN, NULL) "
   ]
  },
  {
   "cell_type": "code",
   "execution_count": null,
   "metadata": {},
   "outputs": [
    {
     "name": "stdout",
     "output_type": "stream",
     "text": [
      "total count of ana_sales_df: 7241655\n",
      "count NaN values in ana_sales_df\n",
      "+-----+---+----+----+---+-----+----+\n",
      "|store|upc|week|move|qty|price|sale|\n",
      "+-----+---+----+----+---+-----+----+\n",
      "|    0|  0|   0|   0|  0|    0|   0|\n",
      "+-----+---+----+----+---+-----+----+\n",
      "\n",
      "total count of ana_upc_df: 641\n",
      "count NaN values in ana_upc_df\n",
      "+--------+---+-------+----+----+-----+\n",
      "|com_code|upc|descrip|size|case|nitem|\n",
      "+--------+---+-------+----+----+-----+\n",
      "|       0|  0|      0|   0|   0|    0|\n",
      "+--------+---+-------+----+----+-----+\n",
      "\n",
      "total count of beer_sales_df: 3967720\n",
      "count NaN values in beer_sales_df\n",
      "+-----+---+----+----+---+-----+----+\n",
      "|store|upc|week|move|qty|price|sale|\n",
      "+-----+---+----+----+---+-----+----+\n",
      "|    0|  0|   0|   0|  0|    0|   0|\n",
      "+-----+---+----+----+---+-----+----+\n",
      "\n",
      "total count of beer_upc_df: 790\n",
      "count NaN values in beer_upc_df\n",
      "+--------+---+-------+----+----+-----+\n",
      "|com_code|upc|descrip|size|case|nitem|\n",
      "+--------+---+-------+----+----+-----+\n",
      "|       0|  0|      0|   0|   0|    0|\n",
      "+--------+---+-------+----+----+-----+\n",
      "\n",
      "total count of cig_sales_df: 5331369\n",
      "count NaN values in cig_sales_df\n",
      "+-----+---+----+----+---+-----+----+\n",
      "|store|upc|week|move|qty|price|sale|\n",
      "+-----+---+----+----+---+-----+----+\n",
      "|    0|  0|   0|   0|  0|    0|   0|\n",
      "+-----+---+----+----+---+-----+----+\n",
      "\n",
      "total count of cig_upc_df: 942\n",
      "count NaN values in cig_upc_df\n",
      "+--------+---+-------+----+----+-----+\n",
      "|com_code|upc|descrip|size|case|nitem|\n",
      "+--------+---+-------+----+----+-----+\n",
      "|       0|  0|      0|   0|   0|    0|\n",
      "+--------+---+-------+----+----+-----+\n",
      "\n",
      "total count of demographic_df: 107\n",
      "count NaN values in demographic_df\n",
      "+-----+-----+----+----+------+------+-------+-------+-------+--------+-------+-------+-------+\n",
      "|store|age60|age9|educ|ethnic|income|hhlarge|workwom|hval150|sstrdist|sstrvol|cpdist5|cpwvol5|\n",
      "+-----+-----+----+----+------+------+-------+-------+-------+--------+-------+-------+-------+\n",
      "|    0|    0|   0|   0|     0|     0|      0|      0|      0|       0|      0|      0|      0|\n",
      "+-----+-----+----+----+------+------+-------+-------+-------+--------+-------+-------+-------+\n",
      "\n"
     ]
    }
   ],
   "source": [
    "from pyspark.sql.functions import isnan, when, count\n",
    "\n",
    "for i in range(len(all_dfs)):\n",
    "    print(f'total count of {all_dfs_names[i]}:', all_dfs[i].count())\n",
    "    print('count NaN values in', all_dfs_names[i])\n",
    "    all_dfs[i].select([count(when(isnan(j), j)).alias(j) for j in all_dfs[i].columns]).show()"
   ]
  },
  {
   "cell_type": "markdown",
   "metadata": {},
   "source": [
    "Count of NaN values in data has seen that there are no NaN values in all data"
   ]
  },
  {
   "cell_type": "code",
   "execution_count": 78,
   "metadata": {},
   "outputs": [
    {
     "name": "stdout",
     "output_type": "stream",
     "text": [
      "total count of ana_sales_df: 7241655\n",
      "count NaN values in ana_sales_df\n",
      "+-----+---+----+----+---+-----+-------+\n",
      "|store|upc|week|move|qty|price|   sale|\n",
      "+-----+---+----+----+---+-----+-------+\n",
      "|    0|  0|   0|   0|  0|    0|6979032|\n",
      "+-----+---+----+----+---+-----+-------+\n",
      "\n",
      "total count of ana_upc_df: 641\n",
      "count NaN values in ana_upc_df\n",
      "+--------+---+-------+----+----+-----+\n",
      "|com_code|upc|descrip|size|case|nitem|\n",
      "+--------+---+-------+----+----+-----+\n",
      "|       0|  0|      0|   0|   0|    0|\n",
      "+--------+---+-------+----+----+-----+\n",
      "\n",
      "total count of beer_sales_df: 3967720\n",
      "count NaN values in beer_sales_df\n",
      "+-----+---+----+----+---+-----+-------+\n",
      "|store|upc|week|move|qty|price|   sale|\n",
      "+-----+---+----+----+---+-----+-------+\n",
      "|    0|  0|   0|   0|  0|    0|3420284|\n",
      "+-----+---+----+----+---+-----+-------+\n",
      "\n",
      "total count of beer_upc_df: 790\n",
      "count NaN values in beer_upc_df\n",
      "+--------+---+-------+----+----+-----+\n",
      "|com_code|upc|descrip|size|case|nitem|\n",
      "+--------+---+-------+----+----+-----+\n",
      "|       0|  0|      0|   0|   0|    0|\n",
      "+--------+---+-------+----+----+-----+\n",
      "\n",
      "total count of cig_sales_df: 5331369\n",
      "count NaN values in cig_sales_df\n",
      "+-----+---+----+----+---+-----+-------+\n",
      "|store|upc|week|move|qty|price|   sale|\n",
      "+-----+---+----+----+---+-----+-------+\n",
      "|    0|  0|   0|   0|  0|    0|5331348|\n",
      "+-----+---+----+----+---+-----+-------+\n",
      "\n",
      "total count of cig_upc_df: 942\n",
      "count NaN values in cig_upc_df\n",
      "+--------+---+-------+----+----+-----+\n",
      "|com_code|upc|descrip|size|case|nitem|\n",
      "+--------+---+-------+----+----+-----+\n",
      "|       0|  0|      0|   0|   0|    0|\n",
      "+--------+---+-------+----+----+-----+\n",
      "\n",
      "total count of demographic_df: 107\n",
      "count NaN values in demographic_df\n",
      "+-----+-----+----+----+------+------+-------+-------+-------+--------+-------+-------+-------+\n",
      "|store|age60|age9|educ|ethnic|income|hhlarge|workwom|hval150|sstrdist|sstrvol|cpdist5|cpwvol5|\n",
      "+-----+-----+----+----+------+------+-------+-------+-------+--------+-------+-------+-------+\n",
      "|    0|   10|  10|  10|    10|    10|     10|     10|     10|      22|     22|     22|     22|\n",
      "+-----+-----+----+----+------+------+-------+-------+-------+--------+-------+-------+-------+\n",
      "\n"
     ]
    }
   ],
   "source": [
    "from pyspark.sql.functions import when, count, col\n",
    "\n",
    "for i in range(len(all_dfs)):\n",
    "    print(f'total count of {all_dfs_names[i]}:', all_dfs[i].count())\n",
    "    print('count NaN values in', all_dfs_names[i])\n",
    "    all_dfs[i].select([count(when(col(j).isNull(), j)).alias(j) for j in all_dfs[i].columns]).show()"
   ]
  },
  {
   "cell_type": "markdown",
   "metadata": {},
   "source": [
    "For the result we can see in upc and sales tables that it have null values only in the sales col. That means at the "
   ]
  }
 ],
 "metadata": {
  "kernelspec": {
   "display_name": "demandanalysis",
   "language": "python",
   "name": "python3"
  },
  "language_info": {
   "codemirror_mode": {
    "name": "ipython",
    "version": 3
   },
   "file_extension": ".py",
   "mimetype": "text/x-python",
   "name": "python",
   "nbconvert_exporter": "python",
   "pygments_lexer": "ipython3",
   "version": "3.11.11"
  }
 },
 "nbformat": 4,
 "nbformat_minor": 2
}
